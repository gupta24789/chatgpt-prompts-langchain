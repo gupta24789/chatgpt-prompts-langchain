{
  "cells": [
    {
      "cell_type": "markdown",
      "metadata": {
        "id": "view-in-github",
        "colab_type": "text"
      },
      "source": [
        "<a href=\"https://colab.research.google.com/github/gupta24789/chatgpt-prompts-langchain/blob/main/langchain.ipynb\" target=\"_parent\"><img src=\"https://colab.research.google.com/assets/colab-badge.svg\" alt=\"Open In Colab\"/></a>"
      ]
    },
    {
      "cell_type": "code",
      "execution_count": null,
      "metadata": {
        "id": "0G7Hmq0I7W_q"
      },
      "outputs": [],
      "source": [
        "import os\n",
        "import warnings\n",
        "from dotenv import load_dotenv\n",
        "from pprint import pprint\n",
        "from langchain.llms import OpenAI, HuggingFaceHub\n",
        "from langchain.prompts import PromptTemplate\n",
        "from langchain.chains import LLMChain, SequentialChain\n",
        "from langchain_community.llms import HuggingFaceEndpoint\n",
        "from langchain.callbacks.streaming_stdout import StreamingStdOutCallbackHandler\n",
        "\n",
        "\n",
        "load_dotenv()\n",
        "warnings.filterwarnings(\"ignore\")"
      ]
    },
    {
      "cell_type": "markdown",
      "metadata": {
        "id": "QbtmER_w7W_t"
      },
      "source": [
        "## OpenAI"
      ]
    },
    {
      "cell_type": "code",
      "execution_count": null,
      "metadata": {
        "id": "VM9FuVjj7W_u",
        "outputId": "c0d81a15-7539-4206-d074-1262a48a00bb"
      },
      "outputs": [
        {
          "name": "stdout",
          "output_type": "stream",
          "text": [
            "\n",
            "\n",
            "1. Data Analysis and Interpretation: The primary responsibility of a data scientist is to analyze and interpret large and complex datasets to identify patterns, trends, and insights that can inform business decisions.\n",
            "\n",
            "2. Data Collection and Management: Data scientists are responsible for identifying relevant data sources, collecting and organizing data, and ensuring data quality and integrity.\n",
            "\n",
            "3. Machine Learning and Statistical Modeling: Data scientists use various machine learning and statistical techniques to build predictive models and algorithms that can be used to solve business problems.\n",
            "\n",
            "4. Data Visualization and Communication: Data scientists are responsible for presenting and communicating their findings to non-technical stakeholders in a clear and concise manner. This includes creating visualizations and reports to effectively convey insights.\n",
            "\n",
            "5. Business Understanding: Data scientists need to have a deep understanding of the business and its goals in order to identify relevant data and provide actionable insights.\n",
            "\n",
            "6. Experimentation and Testing: Data scientists design and conduct experiments to test hypotheses and validate their findings.\n",
            "\n",
            "7. Data Infrastructure and Technology: Data scientists are responsible for selecting and implementing the right tools and technologies to store, process, and analyze data efficiently.\n",
            "\n",
            "8. Ethical and Legal Considerations: Data scientists must ensure that their work is conducted ethically and in compliance with legal regulations, particularly when dealing with sensitive or personal\n"
          ]
        }
      ],
      "source": [
        "llm = OpenAI(openai_api_key = os.environ['OPENAI_KEY'], temperature= 0.6)\n",
        "print(llm.predict(\"What are the responsibility of Data Scientist?\"))"
      ]
    },
    {
      "cell_type": "markdown",
      "metadata": {
        "id": "cVSA4dYm7W_v"
      },
      "source": [
        "## Hugging Face"
      ]
    },
    {
      "cell_type": "code",
      "execution_count": null,
      "metadata": {
        "id": "L8wFRguS7W_8",
        "outputId": "8ed1ef2b-6b37-4c9a-ce0c-d0d8215c9568"
      },
      "outputs": [
        {
          "name": "stdout",
          "output_type": "stream",
          "text": [
            "What are the responsibility of Data Scientist? Provide the response in bullet points.\n",
            "\n",
            "* Analyzing large and complex data sets to extract meaningful insights and trends using statistical and machine learning techniques.\n",
            "* Designing, building, and implementing predictive models and data-driven solutions to address business challenges.\n",
            "* Collaborating with cross-functional teams, including data engineers, software developers, and business stakeholders, to ensure data is collected, processed, and analyzed effectively.\n",
            "* Developing and maintaining data pipelines and infrastructure to support data processing and analysis.\n"
          ]
        }
      ],
      "source": [
        "llm_hf = HuggingFaceHub(repo_id='mistralai/Mistral-7B-Instruct-v0.2',\n",
        "                        model_kwargs= {\"temperature\": 0.6, \"max_length\" : 256},\n",
        "                        huggingfacehub_api_token= os.environ['HUGGINGFACEHUB_API_TOKEN'])\n",
        "print(llm_hf.predict(\"What are the responsibility of Data Scientist? Provide the response in bullet points.\"))"
      ]
    },
    {
      "cell_type": "markdown",
      "metadata": {
        "id": "JcZHxkvT7W_9"
      },
      "source": [
        "## Prompt Templates"
      ]
    },
    {
      "cell_type": "code",
      "execution_count": null,
      "metadata": {
        "id": "mOtoxzYi7W_9"
      },
      "outputs": [],
      "source": [
        "prompt_template = PromptTemplate(input_variables= ['title'], template= \"What are the responsibility of {title}. Provide the response in bullet points\")"
      ]
    },
    {
      "cell_type": "code",
      "execution_count": null,
      "metadata": {
        "id": "Ntanku-X7W_9",
        "outputId": "2b4dbba5-d704-4a99-d8fa-a3cb0fc845cc"
      },
      "outputs": [
        {
          "data": {
            "text/plain": [
              "'What are the responsibility of Java developer. Provide the response in bullet points'"
            ]
          },
          "execution_count": 7,
          "metadata": {},
          "output_type": "execute_result"
        }
      ],
      "source": [
        "## we can check the how the prompt will look like using format method\n",
        "prompt_template.format(title =\"Java developer\")"
      ]
    },
    {
      "cell_type": "code",
      "execution_count": null,
      "metadata": {
        "id": "DLg9sCcu7W_9",
        "outputId": "13c201ee-ca2a-4fbc-9f53-a59d72a90a0f"
      },
      "outputs": [
        {
          "name": "stdout",
          "output_type": "stream",
          "text": [
            "What are the responsibility of Java Developer. Provide the response in bullet points:\n",
            "\n",
            "* Design, develop, test, and maintain Java applications and components\n",
            "* Write clean, efficient, and maintainable code\n",
            "* Collaborate with cross-functional teams to define, design, and ship new features\n",
            "* Troubleshoot and debug issues in Java applications\n",
            "* Stay up-to-date with the latest Java technologies and best practices\n",
            "* Participate in code reviews and provide constructive feedback to other developers\n",
            "* Write unit tests and integrate with existing\n"
          ]
        }
      ],
      "source": [
        "llm_chain = LLMChain(prompt=prompt_template, llm=llm_hf)\n",
        "print(llm_chain.run(\"Java Developer\"))"
      ]
    },
    {
      "cell_type": "markdown",
      "metadata": {
        "id": "e2lHAxzR7W_-"
      },
      "source": [
        "## HuggingFaceEndpoint"
      ]
    },
    {
      "cell_type": "code",
      "execution_count": null,
      "metadata": {
        "id": "u_veW-_g7W_-",
        "outputId": "19bf7723-c4d4-48bb-c475-a992fbf78a2f"
      },
      "outputs": [
        {
          "name": "stderr",
          "output_type": "stream",
          "text": [
            "WARNING! max_length is not default parameter.\n",
            "                    max_length was transferred to model_kwargs.\n",
            "                    Please make sure that max_length is what you intended.\n",
            "WARNING! token is not default parameter.\n",
            "                    token was transferred to model_kwargs.\n",
            "                    Please make sure that token is what you intended.\n"
          ]
        },
        {
          "name": "stdout",
          "output_type": "stream",
          "text": [
            "Token will not been saved to git credential helper. Pass `add_to_git_credential=True` if you want to set the git credential as well.\n",
            "Token is valid (permission: read).\n",
            "Your token has been saved to /home/saurabh/.cache/huggingface/token\n",
            "Login successful\n",
            ".\n",
            "\n",
            "* Design, develop, test, and maintain Java applications and components\n",
            "* Write clean, efficient, and reusable code following Java best practices\n",
            "* Collaborate with cross-functional teams to define, design, and ship new features\n",
            "* Troubleshoot and debug Java applications and identify and correct bottlenecks\n",
            "* Implement security and data protection solutions in Java applications\n",
            "* Stay updated with the latest Java technologies and frameworks\n",
            "* Write unit tests, integration tests, and system tests for Java applications\n",
            "* Participate in code reviews and provide constructive feedback to team members\n",
            "* Work with databases and data access technologies, such as MySQL or Oracle\n",
            "* Use version control systems, such as Git, to manage code changes and collaborate with team members\n",
            "* Communicate effectively with stakeholders, including product owners, project managers, and other developers.\n"
          ]
        }
      ],
      "source": [
        "prompt_template = PromptTemplate(input_variables= ['title'],\n",
        "                                 template= \"What are the responsibility of {title}. Provide the response in bullet points\")\n",
        "\n",
        "llm_hf = HuggingFaceEndpoint(\n",
        "    repo_id=\"mistralai/Mistral-7B-Instruct-v0.2\",\n",
        "    max_length=256,\n",
        "    temperature=0.5,\n",
        "    top_k=10,\n",
        "    top_p=0.95,\n",
        "    typical_p=0.95,\n",
        "    repetition_penalty=1.03,\n",
        "    token= os.environ['HUGGINGFACEHUB_API_TOKEN']\n",
        ")\n",
        "\n",
        "llm_chain = LLMChain(prompt=prompt_template, llm=llm_hf)\n",
        "print(llm_chain.run(\"Java Developer\"))"
      ]
    },
    {
      "cell_type": "code",
      "execution_count": null,
      "metadata": {
        "id": "n83DoI-07W_-",
        "outputId": "55712b63-bd1b-4c09-b62d-501065886233"
      },
      "outputs": [
        {
          "name": "stdout",
          "output_type": "stream",
          "text": [
            "Token will not been saved to git credential helper. Pass `add_to_git_credential=True` if you want to set the git credential as well.\n",
            "Token is valid (permission: read).\n",
            "Your token has been saved to /home/saurabh/.cache/huggingface/token\n",
            "Login successful\n",
            ".\n",
            "\n",
            "1. Designing, developing, and implementing Java applications using best practices and design patterns.\n",
            "2. Writing clean, efficient, and well-documented code.\n",
            "3. Collaborating with cross-functional teams such as designers, project managers, and other developers to ensure the successful delivery of projects.\n",
            "4. Troubleshooting and debugging Java code and resolving technical issues.\n",
            "5. Staying up-to-date with the latest Java technologies, frameworks, and tools.\n",
            "6. Participating in code reviews and providing constructive feedback to other developers.\n",
            "7. Writing unit tests and performing integration testing to ensure software quality.\n",
            "8. Collaborating with QA teams to identify and resolve any defects or bugs.\n",
            "9. Optimizing Java applications for performance and scalability.\n",
            "10. Providing technical support and guidance to other team members and stakeholders.\n",
            "11. Maintaining and enhancing existing Java applications.\n",
            "12. Following security best practices to ensure the confidentiality, integrity, and availability of data.\n",
            "13. Collaborating with DevOps teams to deploy and manage Java applications in production environments.\n",
            "14. Continuously learning and\n"
          ]
        }
      ],
      "source": [
        "## huggingface with streamling\n",
        "prompt_template = PromptTemplate(input_variables= ['title'],\n",
        "                                 template= \"What are the responsibility of {title}. Provide the response in bullet points\")\n",
        "\n",
        "llm_hf = HuggingFaceEndpoint(\n",
        "    repo_id=\"mistralai/Mistral-7B-Instruct-v0.2\",\n",
        "    max_new_tokens=256,\n",
        "    temperature=0.5,\n",
        "    top_k=10,\n",
        "    top_p=0.95,\n",
        "    typical_p=0.95,\n",
        "    repetition_penalty=1.03,\n",
        "    streaming=True\n",
        ")\n",
        "\n",
        "llm_chain = LLMChain(prompt=prompt_template, llm=llm_hf, callbacks=[StreamingStdOutCallbackHandler()])\n",
        "print(llm_chain.run(\"Java Developer\"))"
      ]
    },
    {
      "cell_type": "markdown",
      "metadata": {
        "id": "sgW-BiST7W__"
      },
      "source": [
        "## Multiple chains"
      ]
    },
    {
      "cell_type": "code",
      "execution_count": null,
      "metadata": {
        "id": "zfLbUPy27W__",
        "outputId": "49488634-b36f-4f71-ae9b-bc4887e1ef1e"
      },
      "outputs": [
        {
          "name": "stderr",
          "output_type": "stream",
          "text": [
            "WARNING! max_length is not default parameter.\n",
            "                    max_length was transferred to model_kwargs.\n",
            "                    Please make sure that max_length is what you intended.\n",
            "WARNING! token is not default parameter.\n",
            "                    token was transferred to model_kwargs.\n",
            "                    Please make sure that token is what you intended.\n"
          ]
        },
        {
          "name": "stdout",
          "output_type": "stream",
          "text": [
            "Token will not been saved to git credential helper. Pass `add_to_git_credential=True` if you want to set the git credential as well.\n",
            "Token is valid (permission: read).\n",
            "Your token has been saved to /home/saurabh/.cache/huggingface/token\n",
            "Login successful\n"
          ]
        }
      ],
      "source": [
        "llm_hf = HuggingFaceEndpoint(\n",
        "    repo_id=\"mistralai/Mistral-7B-Instruct-v0.2\",\n",
        "    max_length=256,\n",
        "    temperature=0.5,\n",
        "    top_k=10,\n",
        "    top_p=0.95,\n",
        "    typical_p=0.95,\n",
        "    repetition_penalty=1.03,\n",
        "    token= os.environ['HUGGINGFACEHUB_API_TOKEN']\n",
        ")"
      ]
    },
    {
      "cell_type": "code",
      "execution_count": null,
      "metadata": {
        "id": "uVIddK4M7W__"
      },
      "outputs": [],
      "source": [
        "## responsibility chain\n",
        "responsibility_template = \"\"\"What are the responsibility of {title} haivng {skills}. Response should be in bullet points.\"\"\"\n",
        "responsibility_prompt = PromptTemplate(input_variables= ['title','skills'], template= responsibility_template)\n",
        "llm_chain_res = LLMChain(prompt=responsibility_prompt, llm = llm_hf, output_key='responsibility')"
      ]
    },
    {
      "cell_type": "code",
      "execution_count": null,
      "metadata": {
        "id": "H0v2FgDV7W__"
      },
      "outputs": [],
      "source": [
        "res = llm_chain_res.run(title = \"Java Developer\", skills = \"Java, Aws, JavaScript\")"
      ]
    },
    {
      "cell_type": "code",
      "execution_count": null,
      "metadata": {
        "id": "YzAQUP7j7W__"
      },
      "outputs": [],
      "source": [
        "## certificate chain\n",
        "certificate_template = \"\"\"What are the certificate required for the {responsibility}? Response should be in bullet points.\"\"\"\n",
        "certificate_prompt = PromptTemplate(input_variables= ['responsibility'], template= certificate_template)\n",
        "llm_chain_cer = LLMChain(prompt=certificate_prompt, llm= llm_hf, llm_kwargs = {\"max_new_tokens\": 100, \"repetition_penalty\": 1}, output_key = 'certificates')"
      ]
    },
    {
      "cell_type": "code",
      "execution_count": null,
      "metadata": {
        "id": "-HjaOVx57XAA",
        "outputId": "0560aa6e-e0eb-430e-db9e-1576c2989e3a"
      },
      "outputs": [
        {
          "name": "stdout",
          "output_type": "stream",
          "text": [
            "\n",
            "\n",
            "For Java development using frameworks like Spring Boot, Hibernate, and Struts:\n",
            "- Java SE 8 or higher certification (Oracle Certified Professional Java SE 8 Programmer or equivalent)\n",
            "- Spring Boot certification (Spring Boot Developer or Spring Boot Microservices Developer)\n",
            "- Hibernate certification (Oracle Certified Professional Java EE 7 Web Component Developer or Oracle Certified Professional Java EE 8 Web Services Developer)\n",
            "-\n"
          ]
        }
      ],
      "source": [
        "print(llm_chain_cer.run(responsibility = res))"
      ]
    },
    {
      "cell_type": "code",
      "execution_count": null,
      "metadata": {
        "id": "9WRzMGsx7XAA",
        "outputId": "f964b29f-b0b8-4c5c-ef6c-ab5d9f7f0347"
      },
      "outputs": [
        {
          "name": "stdout",
          "output_type": "stream",
          "text": [
            "\n",
            "\n",
            "\u001b[1m> Entering new SequentialChain chain...\u001b[0m\n",
            "\n",
            "\u001b[1m> Finished chain.\u001b[0m\n"
          ]
        },
        {
          "data": {
            "text/plain": [
              "{'title': 'Java Developer',\n",
              " 'skills': 'Java, Aws, JavaScript',\n",
              " 'responsibility': '\\n\\n* Developing Java applications using frameworks like Spring Boot, Hibernate, and Struts\\n* Designing and implementing RESTful APIs using Java and JSON\\n* Building and deploying Java applications on AWS using Elastic Beanstalk, EC2, and other AWS services\\n* Writing unit tests and integration tests for Java code using JUnit and TestNG\\n* Creating and managing AWS infrastructure using CloudFormation templates and Terraform\\n* Developing front-end applications using JavaScript frameworks like React or Angular\\n* Integrating Java applications with front-end applications using RESTful APIs and WebSockets\\n* Implementing security features like OAuth2 and JWT for Java applications\\n* Monitoring and optimizing Java applications using tools like New Relic and AppDynamics\\n* Collaborating with cross-functional teams to define, design, and ship new features\\n* Keeping up-to-date with the latest Java, AWS, and JavaScript technologies and best practices.',\n",
              " 'certificates': '\\n\\nFor Java development using frameworks like Spring Boot, Hibernate, and Struts:\\n- Java SE 8 or higher certification (Oracle Certified Professional Java SE 8 Programmer or equivalent)\\n- Spring Boot certification (Spring Boot Developer or Spring Boot Microservices Developer)\\n- Hibernate certification (Oracle Certified Professional Java EE 7 Web Component Developer or Oracle Certified Professional Java EE 8 Web Services Developer)\\n-'}"
            ]
          },
          "execution_count": 16,
          "metadata": {},
          "output_type": "execute_result"
        }
      ],
      "source": [
        "## Lets combine both the chains\n",
        "llm_chain_combi = SequentialChain(chains = [llm_chain_res, llm_chain_cer], verbose=True,\n",
        "                                  input_variables = ['title', 'skills'],\n",
        "                                  output_variables= ['responsibility','certificates'])\n",
        "\n",
        "response = llm_chain_combi({\"title\":\"Java Developer\", \"skills\": \"Java, Aws, JavaScript\"})\n",
        "response"
      ]
    },
    {
      "cell_type": "code",
      "execution_count": null,
      "metadata": {
        "id": "6CxowyUV7XAA"
      },
      "outputs": [],
      "source": []
    }
  ],
  "metadata": {
    "kernelspec": {
      "display_name": "lighting",
      "language": "python",
      "name": "python3"
    },
    "language_info": {
      "codemirror_mode": {
        "name": "ipython",
        "version": 3
      },
      "file_extension": ".py",
      "mimetype": "text/x-python",
      "name": "python",
      "nbconvert_exporter": "python",
      "pygments_lexer": "ipython3",
      "version": "3.8.18"
    },
    "colab": {
      "provenance": [],
      "include_colab_link": true
    }
  },
  "nbformat": 4,
  "nbformat_minor": 0
}