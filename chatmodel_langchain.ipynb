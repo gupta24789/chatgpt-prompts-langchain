{
  "cells": [
    {
      "cell_type": "markdown",
      "metadata": {
        "id": "view-in-github",
        "colab_type": "text"
      },
      "source": [
        "<a href=\"https://colab.research.google.com/github/gupta24789/chatgpt-prompts-langchain/blob/main/chatmodel_langchain.ipynb\" target=\"_parent\"><img src=\"https://colab.research.google.com/assets/colab-badge.svg\" alt=\"Open In Colab\"/></a>"
      ]
    },
    {
      "cell_type": "markdown",
      "metadata": {
        "id": "wCGqUJ1U7KfL"
      },
      "source": [
        "## ChatModels with ChatOpenAI"
      ]
    },
    {
      "cell_type": "code",
      "execution_count": null,
      "metadata": {
        "id": "U1N17HVE7KfM"
      },
      "outputs": [],
      "source": [
        "import os\n",
        "import warnings\n",
        "from dotenv import load_dotenv\n",
        "from pprint import pprint\n",
        "from langchain.chat_models import ChatOpenAI\n",
        "from langchain.prompts.chat import ChatPromptTemplate\n",
        "from langchain.schema import HumanMessage, SystemMessage, AIMessage, BaseOutputParser\n",
        "\n",
        "\n",
        "load_dotenv()\n",
        "warnings.filterwarnings(\"ignore\")"
      ]
    },
    {
      "cell_type": "code",
      "execution_count": null,
      "metadata": {
        "id": "6fXYvf847KfN"
      },
      "outputs": [],
      "source": [
        "chat_llm = ChatOpenAI(model= \"gpt-3.5-turbo-0125\", openai_api_key = os.environ['OPENAI_KEY'], temperature= 0.6)"
      ]
    },
    {
      "cell_type": "code",
      "execution_count": null,
      "metadata": {
        "id": "oGW9HGnB7KfN"
      },
      "outputs": [],
      "source": [
        "system_msg = \"You are an expert in HR domain\"\n",
        "human_msg = \"Please provde the top 10 skills related to Java Developer\"\n",
        "\n",
        "response = chat_llm([\n",
        "    SystemMessage(content=system_msg),\n",
        "    HumanMessage(content=human_msg)\n",
        "])"
      ]
    },
    {
      "cell_type": "code",
      "execution_count": null,
      "metadata": {
        "id": "swNspewj7KfN",
        "outputId": "2fd8612e-a2d6-4a75-a37a-c7964f1ee954"
      },
      "outputs": [
        {
          "name": "stdout",
          "output_type": "stream",
          "text": [
            "Sure, here are the top 10 skills related to Java Developer:\n",
            "\n",
            "1. Proficiency in Java programming language\n",
            "2. Knowledge of Object-Oriented Design principles\n",
            "3. Experience with Java frameworks such as Spring, Hibernate, and Struts\n",
            "4. Understanding of data structures and algorithms\n",
            "5. Familiarity with web development technologies like HTML, CSS, and JavaScript\n",
            "6. Ability to work with databases, particularly SQL and JDBC\n",
            "7. Knowledge of software development best practices and design patterns\n",
            "8. Experience with version control systems like Git\n",
            "9. Strong problem-solving and debugging skills\n",
            "10. Good communication and teamwork skills\n",
            "\n",
            "These skills are essential for a Java Developer to be successful in their role.\n"
          ]
        }
      ],
      "source": [
        "print(response.content)"
      ]
    },
    {
      "cell_type": "markdown",
      "metadata": {
        "id": "MoRc5Son7KfN"
      },
      "source": [
        "## Prompt Template & Output Parser"
      ]
    },
    {
      "cell_type": "code",
      "execution_count": null,
      "metadata": {
        "id": "-Mp3-7dU7KfN"
      },
      "outputs": [],
      "source": [
        "class JsonOutputParser(BaseOutputParser):\n",
        "\n",
        "    def parse(self, output):\n",
        "        return {\"skills\" : output.strip().split(\",\")}"
      ]
    },
    {
      "cell_type": "code",
      "execution_count": null,
      "metadata": {
        "id": "Ixft6Zs67KfO"
      },
      "outputs": [],
      "source": [
        "system_msg = \"You are a talented recruiter. For any given title return the top 5 related skills in comma separated.\"\n",
        "human_msg = \"{title}\"\n",
        "\n",
        "chatPrompt = ChatPromptTemplate.from_messages([('system', system_msg), ('human',human_msg)])"
      ]
    },
    {
      "cell_type": "code",
      "execution_count": null,
      "metadata": {
        "id": "-eSJc8z97KfO"
      },
      "outputs": [],
      "source": [
        "chain = chatPrompt|chat_llm|JsonOutputParser()"
      ]
    },
    {
      "cell_type": "code",
      "execution_count": null,
      "metadata": {
        "id": "CtOWWCUR7KfO"
      },
      "outputs": [],
      "source": [
        "response = chain.invoke({'title': 'Java Developer'})"
      ]
    },
    {
      "cell_type": "code",
      "execution_count": null,
      "metadata": {
        "id": "_Ums6KPo7KfO",
        "outputId": "4dc445b3-6fc4-4ae7-cac5-397af72c53be"
      },
      "outputs": [
        {
          "data": {
            "text/plain": [
              "{'skills': ['Java', ' Spring', ' Hibernate', ' SQL', ' REST API']}"
            ]
          },
          "execution_count": 23,
          "metadata": {},
          "output_type": "execute_result"
        }
      ],
      "source": [
        "response"
      ]
    },
    {
      "cell_type": "code",
      "execution_count": null,
      "metadata": {
        "id": "2g5fH4uH7KfO"
      },
      "outputs": [],
      "source": []
    }
  ],
  "metadata": {
    "kernelspec": {
      "display_name": "lighting",
      "language": "python",
      "name": "python3"
    },
    "language_info": {
      "codemirror_mode": {
        "name": "ipython",
        "version": 3
      },
      "file_extension": ".py",
      "mimetype": "text/x-python",
      "name": "python",
      "nbconvert_exporter": "python",
      "pygments_lexer": "ipython3",
      "version": "3.8.18"
    },
    "colab": {
      "provenance": [],
      "include_colab_link": true
    }
  },
  "nbformat": 4,
  "nbformat_minor": 0
}