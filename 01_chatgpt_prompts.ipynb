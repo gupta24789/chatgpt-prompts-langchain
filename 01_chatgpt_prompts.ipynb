{
  "cells": [
    {
      "cell_type": "markdown",
      "metadata": {
        "id": "view-in-github",
        "colab_type": "text"
      },
      "source": [
        "<a href=\"https://colab.research.google.com/github/gupta24789/chatgpt_prompts/blob/main/01_chatgpt_prompts.ipynb\" target=\"_parent\"><img src=\"https://colab.research.google.com/assets/colab-badge.svg\" alt=\"Open In Colab\"/></a>"
      ]
    },
    {
      "cell_type": "markdown",
      "metadata": {
        "id": "ZS-D6ZceJnc3"
      },
      "source": [
        "## Predict title and summary of text"
      ]
    },
    {
      "cell_type": "markdown",
      "metadata": {
        "id": "LX21PVKQJnc7"
      },
      "source": [
        "## Objective :\n",
        "\n",
        "\n",
        "    Input Text :\n",
        "    Output : Json Object :\n",
        "    {\"title\": title of given news, \"summary\" : summary of news}"
      ]
    },
    {
      "cell_type": "code",
      "execution_count": null,
      "metadata": {
        "id": "Qs1wzpHfJnc9"
      },
      "outputs": [],
      "source": [
        "import openai\n",
        "import json\n",
        "from pprint import pprint"
      ]
    },
    {
      "cell_type": "markdown",
      "metadata": {
        "id": "2xb6Oz-tJnc_"
      },
      "source": [
        "## Config"
      ]
    },
    {
      "cell_type": "code",
      "execution_count": null,
      "metadata": {
        "id": "5tSbtT5eJnc_"
      },
      "outputs": [],
      "source": [
        "## Set the open ai key\n",
        "openai.api_key = \"<provide you api key>\"\n",
        "\n",
        "## define model\n",
        "model_name = \"gpt-3.5-turbo-0125\""
      ]
    },
    {
      "cell_type": "markdown",
      "metadata": {
        "id": "xcptFBfVJndA"
      },
      "source": [
        "## Method-1"
      ]
    },
    {
      "cell_type": "code",
      "execution_count": null,
      "metadata": {
        "id": "Y2dq684IJndA"
      },
      "outputs": [],
      "source": [
        "def generate_response(messages):\n",
        "    response = {}\n",
        "    response = openai.ChatCompletion.create(messages=messages, model=model_name,\n",
        "                                            seed = 247,response_format={ \"type\": \"json_object\" })\n",
        "    choices = response[\"choices\"]\n",
        "    completion = choices[0].message.content\n",
        "    return completion"
      ]
    },
    {
      "cell_type": "code",
      "execution_count": null,
      "metadata": {
        "id": "efOahs35JndB"
      },
      "outputs": [],
      "source": [
        "def get_custom_prompt(article):\n",
        "\n",
        "    messages = [\n",
        "    {\n",
        "        \"role\": \"system\",\n",
        "        \"content\": f\"\"\"\n",
        "                        You are a useful assistant. Deliver your response in valid json format which have below keys\n",
        "                        title represents the title of article\n",
        "                        summary represets the summary of article.\n",
        "                   \"\"\"\n",
        "    },\n",
        "    {\n",
        "        \"role\": \"user\",\n",
        "        \"content\": f\"\"\"\n",
        "                    Here is an article: {article}. Please return a title and summary.\n",
        "                   \"\"\"\n",
        "    }\n",
        "    ]\n",
        "\n",
        "    return messages\n",
        ""
      ]
    },
    {
      "cell_type": "code",
      "execution_count": null,
      "metadata": {
        "id": "_1vlDsikJndB"
      },
      "outputs": [],
      "source": [
        "article = \"\"\"\n",
        "Rohan Shah, Technical Analyst at Religare Broking, advised against taking risk and follow a buy-on-dips strategy.\n",
        "\"Any dip on  22,200 can be good buying opportunity and around 23,400 on the higher side,\" he said.\n",
        "\n",
        "On March 1, the Nifty closed at an all-time high of  22,339 on the back of a positive response to the GDP numbers.\n",
        "\n",
        "In a conversation with Moneycontrol, Upasana Chachra, Chief India Economist, Morgan Stanley, said that the trend of India doing well vis-à-vis other developed markets and emerging markets will continue as India's growth is more structural and virtuous in nature in our view.\n",
        "\n",
        "\"I think we will see more broad-based growth recovery into fiscal 25 and growth rates sustaining at these six-plus or six-and-a-half type of levels in the next few years,\" she added.\n",
        "\"\"\""
      ]
    },
    {
      "cell_type": "code",
      "execution_count": null,
      "metadata": {
        "id": "uVeCg0IwJndC"
      },
      "outputs": [],
      "source": [
        "prompt = get_custom_prompt(article)\n",
        "response = generate_response(prompt)"
      ]
    },
    {
      "cell_type": "code",
      "execution_count": null,
      "metadata": {
        "id": "zuRTlWGhJndD",
        "outputId": "fe0c966b-9b4b-441c-a8fb-50da221fb55b"
      },
      "outputs": [
        {
          "name": "stdout",
          "output_type": "stream",
          "text": [
            "{'summary': 'Rohan Shah of Religare Broking advises buying on dips around '\n",
            "            '22,200 and the Nifty closes at an all-time high of 22,339 on '\n",
            "            'March 1. Upasana Chachra of Morgan Stanley predicts sustained '\n",
            "            \"growth rates for India into fiscal 25 based on the country's \"\n",
            "            'structural and virtuous growth.',\n",
            " 'title': 'Experts Recommend Buy-on-Dips Strategy and Positive Outlook on '\n",
            "          \"India's Growth\"}\n"
          ]
        }
      ],
      "source": [
        "pprint(json.loads(response))"
      ]
    },
    {
      "cell_type": "markdown",
      "metadata": {
        "id": "MiQhl75YJndE"
      },
      "source": [
        "## Method-2"
      ]
    },
    {
      "cell_type": "code",
      "execution_count": null,
      "metadata": {
        "id": "W_PlyBrDJndE"
      },
      "outputs": [],
      "source": [
        "def get_custom_prompt(article):\n",
        "\n",
        "    base_prompt = \"\"\"\n",
        "                Please retrieve title and summary from the following news article.\n",
        "                If you can't find the information from this article then return \"\". Do not make things up.\n",
        "                For this you can use your general knowledge (it doesn't have to be from this article). Always return your\n",
        "                response as a valid JSON string. The format of that string should be this,\n",
        "                {\n",
        "                    \"title\": \"Stock Market\",\n",
        "                    \"summary\": \"This week experts are bullish in nift\"\n",
        "                }\n",
        "                News Article:\n",
        "                ============\n",
        "    \"\"\"\n",
        "\n",
        "    messages = [\n",
        "    {\n",
        "        \"role\": \"system\",\n",
        "        \"content\": \"You are a useful assistant\"\n",
        "    },\n",
        "    {\n",
        "        \"role\": \"user\",\n",
        "        \"content\": base_prompt + article\n",
        "    }\n",
        "    ]\n",
        "\n",
        "    return messages\n",
        ""
      ]
    },
    {
      "cell_type": "code",
      "execution_count": null,
      "metadata": {
        "id": "xvA7ftV0JndF"
      },
      "outputs": [],
      "source": [
        "prompt = get_custom_prompt(article)\n",
        "response = generate_response(prompt)"
      ]
    },
    {
      "cell_type": "code",
      "execution_count": null,
      "metadata": {
        "id": "S5LV7RrtJndF",
        "outputId": "fc759e4d-2816-45e9-c686-7e072e905e48"
      },
      "outputs": [
        {
          "name": "stdout",
          "output_type": "stream",
          "text": [
            "{'summary': 'Technical Analyst advises buy-on-dips strategy for Nifty; Nifty '\n",
            "            \"closes at all-time high on positive GDP numbers; India's growth \"\n",
            "            'outlook remains strong',\n",
            " 'title': 'Stock Market'}\n"
          ]
        }
      ],
      "source": [
        "pprint(json.loads(response))"
      ]
    },
    {
      "cell_type": "markdown",
      "metadata": {
        "id": "sPsX5ny6JndF"
      },
      "source": [
        "## Method-3 : Using function calls"
      ]
    },
    {
      "cell_type": "code",
      "execution_count": null,
      "metadata": {
        "id": "b_Cjv3FbJndG"
      },
      "outputs": [],
      "source": [
        "functions = [\n",
        "    {\n",
        "        \"name\": \"summary\",\n",
        "        \"description\": \"Shows the title and summary of some text.\",\n",
        "        \"parameters\": {\n",
        "            \"type\": \"object\",\n",
        "            \"properties\": {\n",
        "                \"title\": {\n",
        "                    \"type\": \"string\",\n",
        "                    \"description\": \"Title of the article\"\n",
        "                },\n",
        "                \"summary\": {\n",
        "                    \"type\": \"string\",\n",
        "                    \"description\": \"Summary of the article\"\n",
        "                }\n",
        "            }\n",
        "        }\n",
        "    }\n",
        "]"
      ]
    },
    {
      "cell_type": "code",
      "execution_count": null,
      "metadata": {
        "id": "OFElEG6dJndG"
      },
      "outputs": [],
      "source": [
        "def get_custom_prompt(article):\n",
        "\n",
        "    messages = [\n",
        "    {\n",
        "        \"role\": \"system\",\n",
        "        \"content\": f\"\"\" You are a useful assistant\"\"\"\n",
        "    },\n",
        "    {\n",
        "        \"role\": \"user\",\n",
        "        \"content\": f\"\"\"\n",
        "                    Here is an article: {article}. Please return a title and summary.\n",
        "                   \"\"\"\n",
        "    }\n",
        "    ]\n",
        "\n",
        "    return messages\n",
        ""
      ]
    },
    {
      "cell_type": "code",
      "execution_count": null,
      "metadata": {
        "id": "KLXem4DKJndG"
      },
      "outputs": [],
      "source": [
        "def generate_response(messages):\n",
        "    response = {}\n",
        "    response = openai.ChatCompletion.create(messages=messages, model=model_name,\n",
        "                                            seed = 247,\n",
        "                                            functions = functions,\n",
        "                                            function_call = {\"name\": functions[0][\"name\"]}\n",
        "                                            )\n",
        "\n",
        "    return response['choices'][0].message.function_call.arguments"
      ]
    },
    {
      "cell_type": "code",
      "execution_count": null,
      "metadata": {
        "id": "ATunz9AkJndG"
      },
      "outputs": [],
      "source": [
        "prompt = get_custom_prompt(article)\n",
        "response = generate_response(prompt)"
      ]
    },
    {
      "cell_type": "code",
      "execution_count": null,
      "metadata": {
        "id": "cXRtiluBJndH",
        "outputId": "fa932e95-a491-446e-9ae9-ca4b73009f3d"
      },
      "outputs": [
        {
          "name": "stdout",
          "output_type": "stream",
          "text": [
            "{'summary': 'Rohan Shah from Religare Broking advises a buy-on-dips strategy, '\n",
            "            'citing a buying opportunity around 22,200 and 23,400. Nifty '\n",
            "            'closed at an all-time high of 22,339 driven by positive GDP '\n",
            "            \"numbers. Upasana Chachra from Morgan Stanley expects India's \"\n",
            "            'growth trend to surpass other markets, anticipating broad-based '\n",
            "            'growth recovery into fiscal 2025.',\n",
            " 'title': 'Analysis of Stock Market Trends in India'}\n"
          ]
        }
      ],
      "source": [
        "pprint(json.loads(response))"
      ]
    },
    {
      "cell_type": "code",
      "execution_count": null,
      "metadata": {
        "id": "pNTZrJMkJndH"
      },
      "outputs": [],
      "source": []
    }
  ],
  "metadata": {
    "kernelspec": {
      "display_name": "python3.7",
      "language": "python",
      "name": "python3"
    },
    "language_info": {
      "codemirror_mode": {
        "name": "ipython",
        "version": 3
      },
      "file_extension": ".py",
      "mimetype": "text/x-python",
      "name": "python",
      "nbconvert_exporter": "python",
      "pygments_lexer": "ipython3",
      "version": "3.7.16"
    },
    "colab": {
      "provenance": [],
      "include_colab_link": true
    }
  },
  "nbformat": 4,
  "nbformat_minor": 0
}